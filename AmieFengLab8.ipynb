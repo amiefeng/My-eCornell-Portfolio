{
 "cells": [
  {
   "cell_type": "markdown",
   "metadata": {},
   "source": [
    "# Lab 8: Define and Solve an ML Problem of Your Choosing"
   ]
  },
  {
   "cell_type": "code",
   "execution_count": 1,
   "metadata": {},
   "outputs": [],
   "source": [
    "import pandas as pd\n",
    "import numpy as np\n",
    "import os \n",
    "import matplotlib.pyplot as plt\n",
    "import seaborn as sns"
   ]
  },
  {
   "cell_type": "markdown",
   "metadata": {},
   "source": [
    "In this lab assignment, you will follow the machine learning life cycle and implement a model to solve a machine learning problem of your choosing. You will select a data set and choose a predictive problem that the data set supports.  You will then inspect the data with your problem in mind and begin to formulate a  project plan. You will then implement the machine learning project plan. \n",
    "\n",
    "You will complete the following tasks:\n",
    "\n",
    "1. Build Your DataFrame\n",
    "2. Define Your ML Problem\n",
    "3. Perform exploratory data analysis to understand your data.\n",
    "4. Define Your Project Plan\n",
    "5. Implement Your Project Plan:\n",
    "    * Prepare your data for your model.\n",
    "    * Fit your model to the training data and evaluate your model.\n",
    "    * Improve your model's performance."
   ]
  },
  {
   "cell_type": "markdown",
   "metadata": {},
   "source": [
    "## Part 1: Build Your DataFrame\n",
    "\n",
    "You will have the option to choose one of four data sets that you have worked with in this program:\n",
    "\n",
    "* The \"census\" data set that contains Census information from 1994: `censusData.csv`\n",
    "* Airbnb NYC \"listings\" data set: `airbnbListingsData.csv`\n",
    "* World Happiness Report (WHR) data set: `WHR2018Chapter2OnlineData.csv`\n",
    "* Book Review data set: `bookReviewsData.csv`\n",
    "\n",
    "Note that these are variations of the data sets that you have worked with in this program. For example, some do not include some of the preprocessing necessary for specific models. \n",
    "\n",
    "#### Load a Data Set and Save it as a Pandas DataFrame\n",
    "\n",
    "The code cell below contains filenames (path + filename) for each of the four data sets available to you.\n",
    "\n",
    "<b>Task:</b> In the code cell below, use the same method you have been using to load the data using `pd.read_csv()` and save it to DataFrame `df`. \n",
    "\n",
    "You can load each file as a new DataFrame to inspect the data before choosing your data set."
   ]
  },
  {
   "cell_type": "code",
   "execution_count": 2,
   "metadata": {},
   "outputs": [
    {
     "data": {
      "text/html": [
       "<div>\n",
       "<style scoped>\n",
       "    .dataframe tbody tr th:only-of-type {\n",
       "        vertical-align: middle;\n",
       "    }\n",
       "\n",
       "    .dataframe tbody tr th {\n",
       "        vertical-align: top;\n",
       "    }\n",
       "\n",
       "    .dataframe thead th {\n",
       "        text-align: right;\n",
       "    }\n",
       "</style>\n",
       "<table border=\"1\" class=\"dataframe\">\n",
       "  <thead>\n",
       "    <tr style=\"text-align: right;\">\n",
       "      <th></th>\n",
       "      <th>name</th>\n",
       "      <th>description</th>\n",
       "      <th>neighborhood_overview</th>\n",
       "      <th>host_name</th>\n",
       "      <th>host_location</th>\n",
       "      <th>host_about</th>\n",
       "      <th>host_response_rate</th>\n",
       "      <th>host_acceptance_rate</th>\n",
       "      <th>host_is_superhost</th>\n",
       "      <th>host_listings_count</th>\n",
       "      <th>...</th>\n",
       "      <th>review_scores_communication</th>\n",
       "      <th>review_scores_location</th>\n",
       "      <th>review_scores_value</th>\n",
       "      <th>instant_bookable</th>\n",
       "      <th>calculated_host_listings_count</th>\n",
       "      <th>calculated_host_listings_count_entire_homes</th>\n",
       "      <th>calculated_host_listings_count_private_rooms</th>\n",
       "      <th>calculated_host_listings_count_shared_rooms</th>\n",
       "      <th>reviews_per_month</th>\n",
       "      <th>n_host_verifications</th>\n",
       "    </tr>\n",
       "  </thead>\n",
       "  <tbody>\n",
       "    <tr>\n",
       "      <th>0</th>\n",
       "      <td>Skylit Midtown Castle</td>\n",
       "      <td>Beautiful, spacious skylit studio in the heart...</td>\n",
       "      <td>Centrally located in the heart of Manhattan ju...</td>\n",
       "      <td>Jennifer</td>\n",
       "      <td>New York, New York, United States</td>\n",
       "      <td>A New Yorker since 2000! My passion is creatin...</td>\n",
       "      <td>0.80</td>\n",
       "      <td>0.17</td>\n",
       "      <td>True</td>\n",
       "      <td>8.0</td>\n",
       "      <td>...</td>\n",
       "      <td>4.79</td>\n",
       "      <td>4.86</td>\n",
       "      <td>4.41</td>\n",
       "      <td>False</td>\n",
       "      <td>3</td>\n",
       "      <td>3</td>\n",
       "      <td>0</td>\n",
       "      <td>0</td>\n",
       "      <td>0.33</td>\n",
       "      <td>9</td>\n",
       "    </tr>\n",
       "    <tr>\n",
       "      <th>1</th>\n",
       "      <td>Whole flr w/private bdrm, bath &amp; kitchen(pls r...</td>\n",
       "      <td>Enjoy 500 s.f. top floor in 1899 brownstone, w...</td>\n",
       "      <td>Just the right mix of urban center and local n...</td>\n",
       "      <td>LisaRoxanne</td>\n",
       "      <td>New York, New York, United States</td>\n",
       "      <td>Laid-back Native New Yorker (formerly bi-coast...</td>\n",
       "      <td>0.09</td>\n",
       "      <td>0.69</td>\n",
       "      <td>True</td>\n",
       "      <td>1.0</td>\n",
       "      <td>...</td>\n",
       "      <td>4.80</td>\n",
       "      <td>4.71</td>\n",
       "      <td>4.64</td>\n",
       "      <td>False</td>\n",
       "      <td>1</td>\n",
       "      <td>1</td>\n",
       "      <td>0</td>\n",
       "      <td>0</td>\n",
       "      <td>4.86</td>\n",
       "      <td>6</td>\n",
       "    </tr>\n",
       "    <tr>\n",
       "      <th>2</th>\n",
       "      <td>Spacious Brooklyn Duplex, Patio + Garden</td>\n",
       "      <td>We welcome you to stay in our lovely 2 br dupl...</td>\n",
       "      <td>NaN</td>\n",
       "      <td>Rebecca</td>\n",
       "      <td>Brooklyn, New York, United States</td>\n",
       "      <td>Rebecca is an artist/designer, and Henoch is i...</td>\n",
       "      <td>1.00</td>\n",
       "      <td>0.25</td>\n",
       "      <td>True</td>\n",
       "      <td>1.0</td>\n",
       "      <td>...</td>\n",
       "      <td>5.00</td>\n",
       "      <td>4.50</td>\n",
       "      <td>5.00</td>\n",
       "      <td>False</td>\n",
       "      <td>1</td>\n",
       "      <td>1</td>\n",
       "      <td>0</td>\n",
       "      <td>0</td>\n",
       "      <td>0.02</td>\n",
       "      <td>3</td>\n",
       "    </tr>\n",
       "    <tr>\n",
       "      <th>3</th>\n",
       "      <td>Large Furnished Room Near B'way</td>\n",
       "      <td>Please don’t expect the luxury here just a bas...</td>\n",
       "      <td>Theater district, many restaurants around here.</td>\n",
       "      <td>Shunichi</td>\n",
       "      <td>New York, New York, United States</td>\n",
       "      <td>I used to work for a financial industry but no...</td>\n",
       "      <td>1.00</td>\n",
       "      <td>1.00</td>\n",
       "      <td>True</td>\n",
       "      <td>1.0</td>\n",
       "      <td>...</td>\n",
       "      <td>4.42</td>\n",
       "      <td>4.87</td>\n",
       "      <td>4.36</td>\n",
       "      <td>False</td>\n",
       "      <td>1</td>\n",
       "      <td>0</td>\n",
       "      <td>1</td>\n",
       "      <td>0</td>\n",
       "      <td>3.68</td>\n",
       "      <td>4</td>\n",
       "    </tr>\n",
       "    <tr>\n",
       "      <th>4</th>\n",
       "      <td>Cozy Clean Guest Room - Family Apt</td>\n",
       "      <td>Our best guests are seeking a safe, clean, spa...</td>\n",
       "      <td>Our neighborhood is full of restaurants and ca...</td>\n",
       "      <td>MaryEllen</td>\n",
       "      <td>New York, New York, United States</td>\n",
       "      <td>Welcome to family life with my oldest two away...</td>\n",
       "      <td>NaN</td>\n",
       "      <td>NaN</td>\n",
       "      <td>True</td>\n",
       "      <td>1.0</td>\n",
       "      <td>...</td>\n",
       "      <td>4.95</td>\n",
       "      <td>4.94</td>\n",
       "      <td>4.92</td>\n",
       "      <td>False</td>\n",
       "      <td>1</td>\n",
       "      <td>0</td>\n",
       "      <td>1</td>\n",
       "      <td>0</td>\n",
       "      <td>0.87</td>\n",
       "      <td>7</td>\n",
       "    </tr>\n",
       "  </tbody>\n",
       "</table>\n",
       "<p>5 rows × 50 columns</p>\n",
       "</div>"
      ],
      "text/plain": [
       "                                                name  \\\n",
       "0                              Skylit Midtown Castle   \n",
       "1  Whole flr w/private bdrm, bath & kitchen(pls r...   \n",
       "2           Spacious Brooklyn Duplex, Patio + Garden   \n",
       "3                   Large Furnished Room Near B'way　   \n",
       "4                 Cozy Clean Guest Room - Family Apt   \n",
       "\n",
       "                                         description  \\\n",
       "0  Beautiful, spacious skylit studio in the heart...   \n",
       "1  Enjoy 500 s.f. top floor in 1899 brownstone, w...   \n",
       "2  We welcome you to stay in our lovely 2 br dupl...   \n",
       "3  Please don’t expect the luxury here just a bas...   \n",
       "4  Our best guests are seeking a safe, clean, spa...   \n",
       "\n",
       "                               neighborhood_overview    host_name  \\\n",
       "0  Centrally located in the heart of Manhattan ju...     Jennifer   \n",
       "1  Just the right mix of urban center and local n...  LisaRoxanne   \n",
       "2                                                NaN      Rebecca   \n",
       "3    Theater district, many restaurants around here.     Shunichi   \n",
       "4  Our neighborhood is full of restaurants and ca...    MaryEllen   \n",
       "\n",
       "                       host_location  \\\n",
       "0  New York, New York, United States   \n",
       "1  New York, New York, United States   \n",
       "2  Brooklyn, New York, United States   \n",
       "3  New York, New York, United States   \n",
       "4  New York, New York, United States   \n",
       "\n",
       "                                          host_about  host_response_rate  \\\n",
       "0  A New Yorker since 2000! My passion is creatin...                0.80   \n",
       "1  Laid-back Native New Yorker (formerly bi-coast...                0.09   \n",
       "2  Rebecca is an artist/designer, and Henoch is i...                1.00   \n",
       "3  I used to work for a financial industry but no...                1.00   \n",
       "4  Welcome to family life with my oldest two away...                 NaN   \n",
       "\n",
       "   host_acceptance_rate  host_is_superhost  host_listings_count  ...  \\\n",
       "0                  0.17               True                  8.0  ...   \n",
       "1                  0.69               True                  1.0  ...   \n",
       "2                  0.25               True                  1.0  ...   \n",
       "3                  1.00               True                  1.0  ...   \n",
       "4                   NaN               True                  1.0  ...   \n",
       "\n",
       "   review_scores_communication  review_scores_location  review_scores_value  \\\n",
       "0                         4.79                    4.86                 4.41   \n",
       "1                         4.80                    4.71                 4.64   \n",
       "2                         5.00                    4.50                 5.00   \n",
       "3                         4.42                    4.87                 4.36   \n",
       "4                         4.95                    4.94                 4.92   \n",
       "\n",
       "  instant_bookable calculated_host_listings_count  \\\n",
       "0            False                              3   \n",
       "1            False                              1   \n",
       "2            False                              1   \n",
       "3            False                              1   \n",
       "4            False                              1   \n",
       "\n",
       "   calculated_host_listings_count_entire_homes  \\\n",
       "0                                            3   \n",
       "1                                            1   \n",
       "2                                            1   \n",
       "3                                            0   \n",
       "4                                            0   \n",
       "\n",
       "   calculated_host_listings_count_private_rooms  \\\n",
       "0                                             0   \n",
       "1                                             0   \n",
       "2                                             0   \n",
       "3                                             1   \n",
       "4                                             1   \n",
       "\n",
       "   calculated_host_listings_count_shared_rooms  reviews_per_month  \\\n",
       "0                                            0               0.33   \n",
       "1                                            0               4.86   \n",
       "2                                            0               0.02   \n",
       "3                                            0               3.68   \n",
       "4                                            0               0.87   \n",
       "\n",
       "  n_host_verifications  \n",
       "0                    9  \n",
       "1                    6  \n",
       "2                    3  \n",
       "3                    4  \n",
       "4                    7  \n",
       "\n",
       "[5 rows x 50 columns]"
      ]
     },
     "execution_count": 2,
     "metadata": {},
     "output_type": "execute_result"
    }
   ],
   "source": [
    "# File names of the four data sets\n",
    "adultDataSet_filename = os.path.join(os.getcwd(), \"data\", \"censusData.csv\")\n",
    "airbnbDataSet_filename = os.path.join(os.getcwd(), \"data\", \"airbnbListingsData.csv\")\n",
    "WHRDataSet_filename = os.path.join(os.getcwd(), \"data\", \"WHR2018Chapter2OnlineData.csv\")\n",
    "#don't use this one bookReviewDataSet_filename = os.path.join(os.getcwd(), \"data\", \"bookReviewsData.csv\")\n",
    "\n",
    "\n",
    "df = pd.read_csv(airbnbDataSet_filename, header=0) # YOUR CODE HERE\n",
    "\n",
    "df.head()"
   ]
  },
  {
   "cell_type": "markdown",
   "metadata": {},
   "source": [
    "## Part 2: Define Your ML Problem\n",
    "\n",
    "Next you will formulate your ML Problem. In the markdown cell below, answer the following questions:\n",
    "\n",
    "1. List the data set you have chosen.\n",
    "2. What will you be predicting? What is the label?\n",
    "3. Is this a supervised or unsupervised learning problem? Is this a clustering, classification or regression problem? Is it a binary classificaiton or multi-class classifiction problem?\n",
    "4. What are your features? (note: this list may change after your explore your data)\n",
    "5. Explain why this is an important problem. In other words, how would a company create value with a model that predicts this label?"
   ]
  },
  {
   "cell_type": "markdown",
   "metadata": {},
   "source": [
    "1. Airbnb NYC \"listings\" data set\n",
    "2. Will be predicting the review score of a listing. The label is review_scores_rating.\n",
    "3. This is a supervised learning & multi-class regression problem.\n",
    "4. My features are the rest of the columns in the data minus the other review related columns\n",
    "5. This is an important problem because, in the eyes of the company, the overall score of the reviews can determine if the listing is a good listing or not. If not, the company can review the reviews in detail through what they're saying in order to troubleshoot the problem of the listing and make sure that listing on the platform follows guidelines and rules. Proactive quality control is a core value that a platform like Airbnb should be actively aiming to achieve."
   ]
  },
  {
   "cell_type": "markdown",
   "metadata": {},
   "source": [
    "## Part 3: Understand Your Data\n",
    "\n",
    "The next step is to perform exploratory data analysis. Inspect and analyze your data set with your machine learning problem in mind. Consider the following as you inspect your data:\n",
    "\n",
    "1. What data preparation techniques would you like to use? These data preparation techniques may include:\n",
    "\n",
    "    * addressing missingness, such as replacing missing values with means\n",
    "    * finding and replacing outliers\n",
    "    * renaming features and labels\n",
    "    * finding and replacing outliers\n",
    "    * performing feature engineering techniques such as one-hot encoding on categorical features\n",
    "    * selecting appropriate features and removing irrelevant features\n",
    "    * performing specific data cleaning and preprocessing techniques for an NLP problem\n",
    "    * addressing class imbalance in your data sample to promote fair AI\n",
    "    \n",
    "\n",
    "2. What machine learning model (or models) you would like to use that is suitable for your predictive problem and data?\n",
    "    * Are there other data preparation techniques that you will need to apply to build a balanced modeling data set for your problem and model? For example, will you need to scale your data?\n",
    " \n",
    " \n",
    "3. How will you evaluate and improve the model's performance?\n",
    "    * Are there specific evaluation metrics and methods that are appropriate for your model?\n",
    "    \n",
    "\n",
    "Think of the different techniques you have used to inspect and analyze your data in this course. These include using Pandas to apply data filters, using the Pandas `describe()` method to get insight into key statistics for each column, using the Pandas `dtypes` property to inspect the data type of each column, and using Matplotlib and Seaborn to detect outliers and visualize relationships between features and labels. If you are working on a classification problem, use techniques you have learned to determine if there is class imbalance.\n",
    "\n",
    "<b>Task</b>: Use the techniques you have learned in this course to inspect and analyze your data. You can import additional packages that you have used in this course that you will need to perform this task.\n",
    "\n",
    "<b>Note</b>: You can add code cells if needed by going to the <b>Insert</b> menu and clicking on <b>Insert Cell Below</b> in the drop-drown menu."
   ]
  },
  {
   "cell_type": "code",
   "execution_count": 3,
   "metadata": {},
   "outputs": [
    {
     "name": "stdout",
     "output_type": "stream",
     "text": [
      "(28022, 50)\n",
      "['name', 'description', 'neighborhood_overview', 'host_name', 'host_location', 'host_about', 'host_response_rate', 'host_acceptance_rate', 'host_is_superhost', 'host_listings_count', 'host_total_listings_count', 'host_has_profile_pic', 'host_identity_verified', 'neighbourhood_group_cleansed', 'room_type', 'accommodates', 'bathrooms', 'bedrooms', 'beds', 'amenities', 'price', 'minimum_nights', 'maximum_nights', 'minimum_minimum_nights', 'maximum_minimum_nights', 'minimum_maximum_nights', 'maximum_maximum_nights', 'minimum_nights_avg_ntm', 'maximum_nights_avg_ntm', 'has_availability', 'availability_30', 'availability_60', 'availability_90', 'availability_365', 'number_of_reviews', 'number_of_reviews_ltm', 'number_of_reviews_l30d', 'review_scores_rating', 'review_scores_cleanliness', 'review_scores_checkin', 'review_scores_communication', 'review_scores_location', 'review_scores_value', 'instant_bookable', 'calculated_host_listings_count', 'calculated_host_listings_count_entire_homes', 'calculated_host_listings_count_private_rooms', 'calculated_host_listings_count_shared_rooms', 'reviews_per_month', 'n_host_verifications']\n"
     ]
    },
    {
     "data": {
      "text/plain": [
       "0    4.70\n",
       "1    4.45\n",
       "2    5.00\n",
       "3    4.21\n",
       "4    4.91\n",
       "5    4.70\n",
       "6    4.56\n",
       "7    4.88\n",
       "8    4.86\n",
       "9    4.87\n",
       "Name: review_scores_rating, dtype: float64"
      ]
     },
     "execution_count": 3,
     "metadata": {},
     "output_type": "execute_result"
    }
   ],
   "source": [
    "# YOUR CODE HERE\n",
    "print(df.shape)\n",
    "print(list(df.columns))\n",
    "df['review_scores_rating'].head(10)"
   ]
  },
  {
   "cell_type": "code",
   "execution_count": 4,
   "metadata": {},
   "outputs": [
    {
     "name": "stdout",
     "output_type": "stream",
     "text": [
      "review_scores_rating                            1.000000\n",
      "review_scores_value                             0.820631\n",
      "review_scores_cleanliness                       0.758213\n",
      "review_scores_communication                     0.727749\n",
      "review_scores_checkin                           0.688152\n",
      "review_scores_location                          0.574464\n",
      "host_response_rate                              0.121477\n",
      "number_of_reviews_l30d                          0.067435\n",
      "number_of_reviews                               0.067182\n",
      "n_host_verifications                            0.050888\n",
      "number_of_reviews_ltm                           0.045595\n",
      "price                                           0.045067\n",
      "reviews_per_month                               0.039317\n",
      "has_availability                                0.030396\n",
      "host_acceptance_rate                            0.012542\n",
      "bedrooms                                        0.011528\n",
      "accommodates                                    0.007798\n",
      "beds                                            0.000233\n",
      "bathrooms                                      -0.002080\n",
      "minimum_maximum_nights                         -0.005249\n",
      "calculated_host_listings_count_entire_homes    -0.006858\n",
      "maximum_nights_avg_ntm                         -0.009140\n",
      "maximum_nights                                 -0.012175\n",
      "maximum_maximum_nights                         -0.015691\n",
      "calculated_host_listings_count_shared_rooms    -0.029324\n",
      "maximum_minimum_nights                         -0.032373\n",
      "minimum_nights_avg_ntm                         -0.032653\n",
      "host_total_listings_count                      -0.033200\n",
      "host_listings_count                            -0.033200\n",
      "minimum_nights                                 -0.034514\n",
      "minimum_minimum_nights                         -0.042011\n",
      "instant_bookable                               -0.058469\n",
      "calculated_host_listings_count                 -0.066378\n",
      "availability_365                               -0.080430\n",
      "availability_90                                -0.092216\n",
      "calculated_host_listings_count_private_rooms   -0.107384\n",
      "availability_60                                -0.108681\n",
      "availability_30                                -0.130953\n",
      "host_is_superhost                                    NaN\n",
      "host_has_profile_pic                                 NaN\n",
      "host_identity_verified                               NaN\n",
      "Name: review_scores_rating, dtype: float64\n",
      "['review_scores_rating', 'review_scores_value']\n"
     ]
    }
   ],
   "source": [
    "#finding the highest correlating features\n",
    "corr_matrix = round(df.corr(),5)\n",
    "#print(corr_matrix)\n",
    "corrs = df.corr()['review_scores_rating']\n",
    "corrs_sorted = corrs.sort_values(ascending=False)\n",
    "print(corrs_sorted)\n",
    "exclude = ['review_scores_rating']\n",
    "corrs = df.corr()['review_scores_rating'].drop(exclude, axis = 0)\n",
    "\n",
    "top_two_corr = list(corrs_sorted.index[:2]) \n",
    "print(top_two_corr)"
   ]
  },
  {
   "cell_type": "markdown",
   "metadata": {},
   "source": [
    "## Part 4: Define Your Project Plan\n",
    "\n",
    "Now that you understand your data, in the markdown cell below, define your plan to implement the remaining phases of the machine learning life cycle (data preparation, modeling, evaluation) to solve your ML problem. Answer the following questions:\n",
    "\n",
    "* Do you have a new feature list? If so, what are the features that you chose to keep and remove after inspecting the data? \n",
    "* Explain different data preparation techniques that you will use to prepare your data for modeling.\n",
    "* What is your model (or models)?\n",
    "* Describe your plan to train your model, analyze its performance and then improve the model. That is, describe your model building, validation and selection plan to produce a model that generalizes well to new data. "
   ]
  },
  {
   "cell_type": "markdown",
   "metadata": {},
   "source": [
    "1. My new feature list includs all features that have a strong correlation with the label. The features that I chose to keep were: 'review_scores_value', 'review_scores_cleanliness', 'review_scores_communication', 'review_scores_checkin', 'review_scores_location', 'host_response_rate', ~~'number_of_reviews_l30d', 'number_of_reviews', 'n_host_verifications', 'number_of_reviews_ltm', 'price', 'reviews_per_month', 'has_availability', 'host_acceptance_rate', 'bedrooms', 'accommodates', 'beds'~~. I stored these in the variable selected_features.\n",
    "2. Some methods of data preparation that I will be using is feature selection and replacing missing values. For feature selection, I plan to find the highest correlating features and choosing from those highly correlated features. For replacing missing values, I will find the Nan values and replace them with the mean of the column. \n",
    "3. My model is a Random Tree Regression model.\n",
    "4. I plan to use a grid search to find the best parameters for the model (n_estimators and max_depth). With those best parameters, I will use them with my Random Tree Regression model and fit the model to the test data. "
   ]
  },
  {
   "cell_type": "markdown",
   "metadata": {},
   "source": [
    "## Part 5: Implement Your Project Plan\n",
    "\n",
    "<b>Task:</b> In the code cell below, import additional packages that you have used in this course that you will need to implement your project plan."
   ]
  },
  {
   "cell_type": "code",
   "execution_count": 5,
   "metadata": {},
   "outputs": [],
   "source": [
    "# YOUR CODE HERE\n",
    "from sklearn.model_selection import train_test_split, GridSearchCV\n",
    "from sklearn.ensemble import RandomForestRegressor\n",
    "from sklearn.feature_extraction.text import CountVectorizer\n",
    "from sklearn.metrics import mean_squared_error, r2_score"
   ]
  },
  {
   "cell_type": "markdown",
   "metadata": {},
   "source": [
    "<b>Task:</b> Use the rest of this notebook to carry out your project plan. \n",
    "\n",
    "You will:\n",
    "\n",
    "1. Prepare your data for your model.\n",
    "2. Fit your model to the training data and evaluate your model.\n",
    "3. Improve your model's performance by performing model selection and/or feature selection techniques to find best model for your problem.\n",
    "\n",
    "Add code cells below and populate the notebook with commentary, code, analyses, results, and figures as you see fit. "
   ]
  },
  {
   "cell_type": "markdown",
   "metadata": {},
   "source": [
    "### Preparing Data for Modeling"
   ]
  },
  {
   "cell_type": "code",
   "execution_count": 6,
   "metadata": {},
   "outputs": [
    {
     "name": "stdout",
     "output_type": "stream",
     "text": [
      "   review_scores_value  review_scores_cleanliness  \\\n",
      "0                 4.41                       4.62   \n",
      "1                 4.64                       4.49   \n",
      "2                 5.00                       5.00   \n",
      "3                 4.36                       3.73   \n",
      "4                 4.92                       4.82   \n",
      "\n",
      "   review_scores_communication  review_scores_checkin  review_scores_location  \\\n",
      "0                         4.79                   4.76                    4.86   \n",
      "1                         4.80                   4.78                    4.71   \n",
      "2                         5.00                   5.00                    4.50   \n",
      "3                         4.42                   4.66                    4.87   \n",
      "4                         4.95                   4.97                    4.94   \n",
      "\n",
      "   host_response_rate  number_of_reviews_l30d  number_of_reviews  \\\n",
      "0                0.80                       0                 48   \n",
      "1                0.09                       0                409   \n",
      "2                1.00                       0                  2   \n",
      "3                1.00                       2                507   \n",
      "4                 NaN                       0                118   \n",
      "\n",
      "   n_host_verifications  number_of_reviews_ltm  price  reviews_per_month  \\\n",
      "0                     9                      0  150.0               0.33   \n",
      "1                     6                     32   75.0               4.86   \n",
      "2                     3                      1  275.0               0.02   \n",
      "3                     4                     33   68.0               3.68   \n",
      "4                     7                      0   75.0               0.87   \n",
      "\n",
      "   has_availability  host_acceptance_rate  bedrooms  review_scores_rating  \n",
      "0              True                  0.17       NaN                  4.70  \n",
      "1              True                  0.69       1.0                  4.45  \n",
      "2              True                  0.25       2.0                  5.00  \n",
      "3              True                  1.00       1.0                  4.21  \n",
      "4              True                   NaN       1.0                  4.91  \n"
     ]
    }
   ],
   "source": [
    "#feature selection\n",
    "selected_features = [\n",
    "    'review_scores_value',\n",
    "    'review_scores_cleanliness',\n",
    "    'review_scores_communication',\n",
    "    'review_scores_checkin',\n",
    "    'review_scores_location',\n",
    "    'host_response_rate',\n",
    "    'number_of_reviews_l30d',\n",
    "    'number_of_reviews',\n",
    "    'n_host_verifications',\n",
    "    'number_of_reviews_ltm',\n",
    "    'price',\n",
    "    'reviews_per_month', 'has_availability',\n",
    "    'host_acceptance_rate'\n",
    "    ,'bedrooms'\n",
    "    # , 'accommodates'\n",
    "    # , 'beds'\n",
    "]\n",
    "\n",
    "\n",
    "to_keep = selected_features + ['review_scores_rating']\n",
    "df = df[to_keep]\n",
    "\n",
    "print(df.head())"
   ]
  },
  {
   "cell_type": "code",
   "execution_count": 7,
   "metadata": {},
   "outputs": [
    {
     "data": {
      "text/plain": [
       "review_scores_value            False\n",
       "review_scores_cleanliness      False\n",
       "review_scores_communication    False\n",
       "review_scores_checkin          False\n",
       "review_scores_location         False\n",
       "host_response_rate              True\n",
       "number_of_reviews_l30d         False\n",
       "number_of_reviews              False\n",
       "n_host_verifications           False\n",
       "number_of_reviews_ltm          False\n",
       "price                          False\n",
       "reviews_per_month              False\n",
       "has_availability               False\n",
       "host_acceptance_rate            True\n",
       "bedrooms                        True\n",
       "review_scores_rating           False\n",
       "dtype: bool"
      ]
     },
     "execution_count": 7,
     "metadata": {},
     "output_type": "execute_result"
    }
   ],
   "source": [
    "nan_count = np.sum(df.isnull(), axis = 0)\n",
    "nan_detected = nan_count > 0 \n",
    "nan_detected"
   ]
  },
  {
   "cell_type": "code",
   "execution_count": 8,
   "metadata": {
    "scrolled": true
   },
   "outputs": [
    {
     "name": "stdout",
     "output_type": "stream",
     "text": [
      "review_scores_value            0\n",
      "review_scores_cleanliness      0\n",
      "review_scores_communication    0\n",
      "review_scores_checkin          0\n",
      "review_scores_location         0\n",
      "host_response_rate             0\n",
      "number_of_reviews_l30d         0\n",
      "number_of_reviews              0\n",
      "n_host_verifications           0\n",
      "number_of_reviews_ltm          0\n",
      "price                          0\n",
      "reviews_per_month              0\n",
      "has_availability               0\n",
      "host_acceptance_rate           0\n",
      "bedrooms                       0\n",
      "review_scores_rating           0\n",
      "host_response_rate_na          0\n",
      "host_acceptance_rate_na        0\n",
      "bedrooms_na                    0\n",
      "dtype: int64\n"
     ]
    }
   ],
   "source": [
    "#replace missing values\n",
    "df['host_response_rate_na'] = df['host_response_rate'].isnull()\n",
    "df['host_acceptance_rate_na'] = df['host_acceptance_rate'].isnull()\n",
    "df['bedrooms_na'] = df['bedrooms'].isnull()\n",
    "# df['beds_na'] = df['beds'].isnull()\n",
    "\n",
    "mean_host_response = df['host_response_rate'].mean()\n",
    "df['host_response_rate'].fillna(mean_host_response, inplace=True)\n",
    "#np.sum(df['host_response_rate'].isnull())\n",
    "\n",
    "mean_host_acceptance = df['host_acceptance_rate'].mean()\n",
    "df['host_acceptance_rate'].fillna(mean_host_acceptance, inplace=True)\n",
    "#np.sum(df['host_acceptance_rate'].isnull())\n",
    "\n",
    "mean_bedrooms = df['bedrooms'].mean()\n",
    "df['bedrooms'].fillna(mean_bedrooms, inplace=True)\n",
    "\n",
    "# mean_beds = df['beds'].mean()\n",
    "# df['beds'].fillna(mean_beds, inplace=True)\n",
    "\n",
    "print(np.sum(df.isnull(), axis = 0))"
   ]
  },
  {
   "cell_type": "code",
   "execution_count": 9,
   "metadata": {},
   "outputs": [
    {
     "data": {
      "text/plain": [
       "Series([], dtype: float64)"
      ]
     },
     "execution_count": 9,
     "metadata": {},
     "output_type": "execute_result"
    }
   ],
   "source": [
    "to_encode = list(df.select_dtypes(include=['object']).columns)\n",
    "df[to_encode].nunique()"
   ]
  },
  {
   "cell_type": "code",
   "execution_count": 10,
   "metadata": {},
   "outputs": [],
   "source": [
    "# planned to do encoding but there were no object values columns\n",
    "#encoding\n",
    "#to_encode = list(df.select_dtypes(include=['object']).columns)\n",
    "#df[to_encode].nunique()\n",
    "\n",
    "#df['room_type'].unique()\n",
    "#feats = {'room_type', 'neighbourhood_group_cleansed'}\n",
    "\n",
    "#df_room_type = pd.get_dummies(df['room_type'], prefix='room_type')\n",
    "#df = df.join(df_room_type)\n",
    "#df.drop(columns = 'room_type', inplace=True)\n",
    "\n",
    "#df_neighbourhood_cleansed = pd.get_dummies(df['neighbourhood_group_cleansed'], prefix='neighbourhood_group_cleansed')\n",
    "#df = df.join(df_neighbourhood_cleansed)\n",
    "#df.drop(columns = 'neighbourhood_group_cleansed', inplace=True)\n",
    "\n",
    "#df.columns"
   ]
  },
  {
   "cell_type": "markdown",
   "metadata": {},
   "source": [
    "### Defining the Label"
   ]
  },
  {
   "cell_type": "code",
   "execution_count": 11,
   "metadata": {},
   "outputs": [],
   "source": [
    "X = df[selected_features]\n",
    "y = df['review_scores_rating']"
   ]
  },
  {
   "cell_type": "markdown",
   "metadata": {},
   "source": [
    "### Random Forest Regressor Model Implementation"
   ]
  },
  {
   "cell_type": "code",
   "execution_count": 12,
   "metadata": {},
   "outputs": [],
   "source": [
    "X_train, X_test, y_train, y_test = train_test_split(X, y, test_size=0.4)"
   ]
  },
  {
   "cell_type": "code",
   "execution_count": 13,
   "metadata": {},
   "outputs": [
    {
     "name": "stdout",
     "output_type": "stream",
     "text": [
      "{'n_estimators': [100, 150, 200, 250, 300], 'max_depth': [1, 5, 10, 20, 30, None]}\n",
      "Running Grid Search...\n",
      "Best max_depth: 10\n",
      "Best n_estimators: 300\n",
      "Done\n"
     ]
    }
   ],
   "source": [
    "#grid search\n",
    "param_grid = {'n_estimators': list(range(100, 350, 50)),\n",
    "             'max_depth': [1, 5 ,10, 20, 30, None]}\n",
    "print(param_grid)\n",
    "\n",
    "print('Running Grid Search...')\n",
    "model = RandomForestRegressor()\n",
    "grid = GridSearchCV(model, param_grid, cv=5, n_jobs=-1)\n",
    "grid_search = grid.fit(X_train, y_train)\n",
    "\n",
    "best_max_depth = grid_search.best_params_['max_depth']\n",
    "best_n_estimators = grid_search.best_params_['n_estimators']\n",
    "print('Best max_depth:', best_max_depth)\n",
    "print('Best n_estimators:', best_n_estimators)\n",
    "\n",
    "print('Done')"
   ]
  },
  {
   "cell_type": "code",
   "execution_count": 14,
   "metadata": {},
   "outputs": [
    {
     "name": "stdout",
     "output_type": "stream",
     "text": [
      "Begin RF Implementation...\n",
      "End\n"
     ]
    }
   ],
   "source": [
    "print('Begin RF Implementation...')\n",
    "rf_model = RandomForestRegressor(max_depth=best_max_depth, n_estimators=best_n_estimators)\n",
    "rf_model.fit(X_train, y_train)\n",
    "print('End')\n",
    "\n",
    "#grid_search.best_params_['max_depth']\n",
    "#grid_search.best_params_['n_estimators']"
   ]
  },
  {
   "cell_type": "markdown",
   "metadata": {},
   "source": [
    "### Evaluation"
   ]
  },
  {
   "cell_type": "code",
   "execution_count": 15,
   "metadata": {},
   "outputs": [
    {
     "name": "stdout",
     "output_type": "stream",
     "text": [
      "[RF] Root Mean Squared Error: 0.22226173621206674\n",
      "[RF] R2: 0.8058870670464493\n"
     ]
    },
    {
     "name": "stderr",
     "output_type": "stream",
     "text": [
      "/home/ubuntu/.pyenv/versions/3.9.19/lib/python3.9/site-packages/sklearn/metrics/_regression.py:483: FutureWarning: 'squared' is deprecated in version 1.4 and will be removed in 1.6. To calculate the root mean squared error, use the function'root_mean_squared_error'.\n",
      "  warnings.warn(\n"
     ]
    }
   ],
   "source": [
    "y_rf_pred = rf_model.predict(X_test)\n",
    "\n",
    "rf_rmse = mean_squared_error(y_test, y_rf_pred, squared=False)\n",
    "rf_r2 = r2_score(y_test, y_rf_pred)\n",
    "\n",
    "print('[RF] Root Mean Squared Error: {0}'.format(rf_rmse))\n",
    "print('[RF] R2: {0}'.format(rf_r2))  "
   ]
  },
  {
   "cell_type": "code",
   "execution_count": 16,
   "metadata": {
    "scrolled": true
   },
   "outputs": [
    {
     "data": {
      "image/png": "[encoded data removed]",
      "text/plain": [
       "<Figure size 600x500 with 1 Axes>"
      ]
     },
     "metadata": {},
     "output_type": "display_data"
    }
   ],
   "source": [
    "metrics = ['RMSE', 'R2']\n",
    "scores = [rf_rmse, rf_r2]\n",
    "plt.figure(figsize=(6, 5))\n",
    "plt.bar(metrics, scores, color=['skyblue', 'lightgreen'])\n",
    "\n",
    "plt.ylabel(\"Score\")\n",
    "plt.title(\"Random Forest Model Performance\")\n",
    "plt.ylim([0, 1])\n",
    "\n",
    "for index, value in enumerate(scores):\n",
    "    plt.text(index, value + 0.02, f'{value:.3f}', ha='center')\n",
    "\n",
    "plt.show()"
   ]
  },
  {
   "cell_type": "markdown",
   "metadata": {},
   "source": [
    "With these results, the Random Forest Regressor model has a high R2 value that represents the that the model fit to the data very well. This model also has a low RMSE score meaning that the model made accurate predictions."
   ]
  }
 ],
 "metadata": {
  "kernelspec": {
   "display_name": "Python 3 (ipykernel)",
   "language": "python",
   "name": "python3"
  },
  "language_info": {
   "codemirror_mode": {
    "name": "ipython",
    "version": 3
   },
   "file_extension": ".py",
   "mimetype": "text/x-python",
   "name": "python",
   "nbconvert_exporter": "python",
   "pygments_lexer": "ipython3",
   "version": "3.9.19"
  },
  "toc": {
   "base_numbering": 1,
   "nav_menu": {},
   "number_sections": false,
   "sideBar": true,
   "skip_h1_title": false,
   "title_cell": "Table of Contents",
   "title_sidebar": "Contents",
   "toc_cell": false,
   "toc_position": {},
   "toc_section_display": true,
   "toc_window_display": false
  },
  "varInspector": {
   "cols": {
    "lenName": 16,
    "lenType": 16,
    "lenVar": 40
   },
   "kernels_config": {
    "python": {
     "delete_cmd_postfix": "",
     "delete_cmd_prefix": "del ",
     "library": "var_list.py",
     "varRefreshCmd": "print(var_dic_list())"
    },
    "r": {
     "delete_cmd_postfix": ") ",
     "delete_cmd_prefix": "rm(",
     "library": "var_list.r",
     "varRefreshCmd": "cat(var_dic_list()) "
    }
   },
   "types_to_exclude": [
    "module",
    "function",
    "builtin_function_or_method",
    "instance",
    "_Feature"
   ],
   "window_display": false
  }
 },
 "nbformat": 4,
 "nbformat_minor": 4
}
